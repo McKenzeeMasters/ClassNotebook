{
 "cells": [
  {
   "cell_type": "markdown",
   "id": "6a7941e9",
   "metadata": {},
   "source": [
    "# Chapter 8: Functions in Python"
   ]
  },
  {
   "cell_type": "markdown",
   "id": "9d8b91de",
   "metadata": {},
   "source": [
    "## Defining\n",
    "* A function is a block of code which only runs when it is called.\n",
    "\n",
    "* You can pass data, known as parameters, into a function.\n",
    "\n",
    "* A function can return data as a result."
   ]
  },
  {
   "cell_type": "markdown",
   "id": "6557ee86",
   "metadata": {},
   "source": [
    "### This is how you define a function in Python\n",
    "- def keyword\n",
    "- name of the function\n",
    "- (parameters) --> parameters can also be empty\n",
    "- body of the function"
   ]
  },
  {
   "cell_type": "code",
   "execution_count": 2,
   "id": "70b9c447",
   "metadata": {},
   "outputs": [
    {
     "name": "stdout",
     "output_type": "stream",
     "text": [
      "Hello\n"
     ]
    }
   ],
   "source": [
    "def my_function():\n",
    "    print(\"Hello\")\n",
    "my_function()\n",
    "#calling the function to get the output"
   ]
  },
  {
   "cell_type": "code",
   "execution_count": 4,
   "id": "0eaf6e94",
   "metadata": {},
   "outputs": [
    {
     "name": "stdout",
     "output_type": "stream",
     "text": [
      "16\n"
     ]
    }
   ],
   "source": [
    "def myf():\n",
    "    print(8*2)\n",
    "myf()"
   ]
  },
  {
   "cell_type": "markdown",
   "id": "5c361e5a",
   "metadata": {},
   "source": [
    "### Why we need function?"
   ]
  },
  {
   "cell_type": "code",
   "execution_count": 6,
   "id": "1e544009",
   "metadata": {},
   "outputs": [
    {
     "name": "stdout",
     "output_type": "stream",
     "text": [
      "2001 Newburg Road\n",
      "2001 Newburg Road\n",
      "2001 Newburg Road\n",
      "2001 Newburg Road\n",
      "2001 Newburg Road\n"
     ]
    }
   ],
   "source": [
    "def addr():\n",
    "    print(\"2001 Newburg Road\")\n",
    "addr()\n",
    "addr()\n",
    "addr()\n",
    "addr()\n",
    "addr()"
   ]
  },
  {
   "cell_type": "markdown",
   "id": "d0f1621e",
   "metadata": {},
   "source": [
    "### Function with parameters"
   ]
  },
  {
   "cell_type": "markdown",
   "id": "08338a48",
   "metadata": {},
   "source": [
    "\n",
    "### The `return` statement: \n",
    "* Use inside a function or method to send the function’s result back to the caller. \n",
    "* A return statement consists of the `return` keyword followed by an optional return value\n",
    "\n",
    "* Three Ways to Return a Result to a Function’s Caller\n",
    "    * **`return`** followed by an expression.\n",
    "    * **`return`** without an expression implicitly returns **`None`**&mdash;represents the **absence of a value** and **evaluates to `False` in conditions**.\n",
    "    * **No `return` statement implicitly returns `None`**.\n"
   ]
  },
  {
   "cell_type": "code",
   "execution_count": 7,
   "id": "ba1b1005",
   "metadata": {},
   "outputs": [
    {
     "data": {
      "text/plain": [
       "9"
      ]
     },
     "execution_count": 7,
     "metadata": {},
     "output_type": "execute_result"
    }
   ],
   "source": [
    "def sqr(number):\n",
    "    return (number**2)\n",
    "sqr(3)"
   ]
  },
  {
   "cell_type": "code",
   "execution_count": 8,
   "id": "11e8e1ba",
   "metadata": {},
   "outputs": [
    {
     "data": {
      "text/plain": [
       "15372032256"
      ]
     },
     "execution_count": 8,
     "metadata": {},
     "output_type": "execute_result"
    }
   ],
   "source": [
    "sqr(123984)"
   ]
  },
  {
   "cell_type": "code",
   "execution_count": 10,
   "id": "a4b29ca2",
   "metadata": {},
   "outputs": [
    {
     "data": {
      "text/plain": [
       "64"
      ]
     },
     "execution_count": 10,
     "metadata": {},
     "output_type": "execute_result"
    }
   ],
   "source": [
    "def cube(number):\n",
    "    return(number**3)\n",
    "cube(4) #cubes the number"
   ]
  },
  {
   "cell_type": "code",
   "execution_count": 11,
   "id": "7c000c9f",
   "metadata": {},
   "outputs": [
    {
     "data": {
      "text/plain": [
       "729000"
      ]
     },
     "execution_count": 11,
     "metadata": {},
     "output_type": "execute_result"
    }
   ],
   "source": [
    "cube(90)"
   ]
  },
  {
   "cell_type": "markdown",
   "id": "0ea073dd",
   "metadata": {},
   "source": [
    "## Our own functions for practice\n",
    "`Echo` that will act same as print"
   ]
  },
  {
   "cell_type": "code",
   "execution_count": 12,
   "id": "ea0aaa14",
   "metadata": {},
   "outputs": [
    {
     "data": {
      "text/plain": [
       "'Hi'"
      ]
     },
     "execution_count": 12,
     "metadata": {},
     "output_type": "execute_result"
    }
   ],
   "source": [
    "def echo(word):\n",
    "    return word\n",
    "echo(\"Hi\")"
   ]
  },
  {
   "cell_type": "code",
   "execution_count": 13,
   "id": "b8101378",
   "metadata": {},
   "outputs": [
    {
     "data": {
      "text/plain": [
       "9"
      ]
     },
     "execution_count": 13,
     "metadata": {},
     "output_type": "execute_result"
    }
   ],
   "source": [
    "echo(9)"
   ]
  },
  {
   "cell_type": "markdown",
   "id": "5e46b2db",
   "metadata": {},
   "source": [
    "### Practice1 Favorite Book: Write a function called favorite_book() that accepts one parameter, title. \n",
    "The function should print a message, such as One of my\n",
    "favorite books is Alice in Wonderland. Call the function, making sure to\n",
    "include a book title as an argument in the function call."
   ]
  },
  {
   "cell_type": "code",
   "execution_count": 26,
   "id": "870ecaf6",
   "metadata": {},
   "outputs": [],
   "source": [
    "def fav_book(title):\n",
    "    return (\"My favorite book is \"+ title)"
   ]
  },
  {
   "cell_type": "code",
   "execution_count": 27,
   "id": "1e68f1de",
   "metadata": {},
   "outputs": [
    {
     "data": {
      "text/plain": [
       "'My favorite book is Alice in Wondeland'"
      ]
     },
     "execution_count": 27,
     "metadata": {},
     "output_type": "execute_result"
    }
   ],
   "source": [
    "fav_book(\"Alice in Wondeland\")"
   ]
  },
  {
   "cell_type": "code",
   "execution_count": 28,
   "id": "993f05f3",
   "metadata": {},
   "outputs": [],
   "source": [
    "def fav_book1(title):\n",
    "    print (\"My favorite book is \"+title)"
   ]
  },
  {
   "cell_type": "code",
   "execution_count": 29,
   "id": "664c341e",
   "metadata": {},
   "outputs": [
    {
     "name": "stdout",
     "output_type": "stream",
     "text": [
      "My favorite book is Alice in Wondeland\n"
     ]
    }
   ],
   "source": [
    "fav_book1(\"Alice in Wondeland\")"
   ]
  },
  {
   "cell_type": "markdown",
   "id": "83d0088a",
   "metadata": {},
   "source": [
    "### Functions with Multiple Parameters\n",
    "* `calc_MPG` function that determines the MPG from miles driven and gallons used"
   ]
  },
  {
   "cell_type": "code",
   "execution_count": 30,
   "id": "f14fae77",
   "metadata": {},
   "outputs": [],
   "source": [
    "def calc_MPG(m_d, g_u):\n",
    "    return(m_d/g_u)\n"
   ]
  },
  {
   "cell_type": "code",
   "execution_count": 31,
   "id": "7d48970b",
   "metadata": {},
   "outputs": [
    {
     "data": {
      "text/plain": [
       "33.333333333333336"
      ]
     },
     "execution_count": 31,
     "metadata": {},
     "output_type": "execute_result"
    }
   ],
   "source": [
    "calc_MPG(100,3)"
   ]
  },
  {
   "cell_type": "code",
   "execution_count": 34,
   "id": "f9f323e7",
   "metadata": {},
   "outputs": [
    {
     "data": {
      "text/plain": [
       "40.0"
      ]
     },
     "execution_count": 34,
     "metadata": {},
     "output_type": "execute_result"
    }
   ],
   "source": [
    "calc_MPG(200,5)"
   ]
  },
  {
   "cell_type": "markdown",
   "id": "b5e05036",
   "metadata": {},
   "source": [
    "## Default Parameter\n",
    "With default parameters, you can specify a default value that will be used for the function. If you pass a parameter in for the default value, it uses that value instead. \n",
    "### def MPG(miles=200,gallon=12)"
   ]
  },
  {
   "cell_type": "code",
   "execution_count": 1,
   "id": "a9156436",
   "metadata": {},
   "outputs": [],
   "source": [
    "def MPG(m_d=200, g_u=12):\n",
    "    g_u=11\n",
    "    #m_d=300\n",
    "    return (m_d/g_u)"
   ]
  },
  {
   "cell_type": "code",
   "execution_count": 2,
   "id": "3bf3a587",
   "metadata": {},
   "outputs": [
    {
     "data": {
      "text/plain": [
       "18.181818181818183"
      ]
     },
     "execution_count": 2,
     "metadata": {},
     "output_type": "execute_result"
    }
   ],
   "source": [
    "MPG()"
   ]
  },
  {
   "cell_type": "code",
   "execution_count": 3,
   "id": "356fd56b",
   "metadata": {},
   "outputs": [
    {
     "data": {
      "text/plain": [
       "36.36363636363637"
      ]
     },
     "execution_count": 3,
     "metadata": {},
     "output_type": "execute_result"
    }
   ],
   "source": [
    "MPG(m_d=400) "
   ]
  },
  {
   "cell_type": "markdown",
   "id": "c7f67792",
   "metadata": {},
   "source": [
    "###  Function repeat using `for` loop"
   ]
  },
  {
   "cell_type": "code",
   "execution_count": 43,
   "id": "d09506c0",
   "metadata": {},
   "outputs": [],
   "source": [
    "def repeat_e(data, count):\n",
    "    for i in range (count):\n",
    "        print(data)"
   ]
  },
  {
   "cell_type": "code",
   "execution_count": 44,
   "id": "4ef5538f",
   "metadata": {},
   "outputs": [
    {
     "name": "stdout",
     "output_type": "stream",
     "text": [
      "2001 Newburg Rd\n",
      "2001 Newburg Rd\n",
      "2001 Newburg Rd\n",
      "2001 Newburg Rd\n",
      "2001 Newburg Rd\n"
     ]
    }
   ],
   "source": [
    "repeat_e(\"2001 Newburg Rd\", 5)"
   ]
  },
  {
   "cell_type": "markdown",
   "id": "b3003a72",
   "metadata": {},
   "source": [
    "## Practice: Define a function called `name` and print your name 20 times using the function"
   ]
  },
  {
   "cell_type": "code",
   "execution_count": 45,
   "id": "74ecdff8",
   "metadata": {},
   "outputs": [],
   "source": [
    "def name(data,count):\n",
    "    for x in range(count):\n",
    "        print(data)"
   ]
  },
  {
   "cell_type": "code",
   "execution_count": 46,
   "id": "255cdef1",
   "metadata": {},
   "outputs": [
    {
     "name": "stdout",
     "output_type": "stream",
     "text": [
      "McKenzee\n",
      "McKenzee\n",
      "McKenzee\n",
      "McKenzee\n",
      "McKenzee\n",
      "McKenzee\n",
      "McKenzee\n",
      "McKenzee\n",
      "McKenzee\n",
      "McKenzee\n",
      "McKenzee\n",
      "McKenzee\n",
      "McKenzee\n",
      "McKenzee\n",
      "McKenzee\n",
      "McKenzee\n",
      "McKenzee\n",
      "McKenzee\n",
      "McKenzee\n",
      "McKenzee\n"
     ]
    }
   ],
   "source": [
    "name(\"McKenzee\", 20)"
   ]
  },
  {
   "cell_type": "markdown",
   "id": "c9b50f99",
   "metadata": {},
   "source": [
    "### Write a function to find maximum of three values"
   ]
  },
  {
   "cell_type": "code",
   "execution_count": 4,
   "id": "99900dd8",
   "metadata": {},
   "outputs": [
    {
     "data": {
      "text/plain": [
       "89"
      ]
     },
     "execution_count": 4,
     "metadata": {},
     "output_type": "execute_result"
    }
   ],
   "source": [
    "max(23,45,89)"
   ]
  },
  {
   "cell_type": "code",
   "execution_count": 7,
   "id": "04b21d7f",
   "metadata": {},
   "outputs": [],
   "source": [
    "def maximum(a,b,c):\n",
    "    if a>b and a>c:\n",
    "        largest=a \n",
    "    elif (b>c):\n",
    "        largest=b\n",
    "    else:\n",
    "        largest=c\n",
    "    return largest"
   ]
  },
  {
   "cell_type": "code",
   "execution_count": 8,
   "id": "4b1abd74",
   "metadata": {},
   "outputs": [
    {
     "data": {
      "text/plain": [
       "89"
      ]
     },
     "execution_count": 8,
     "metadata": {},
     "output_type": "execute_result"
    }
   ],
   "source": [
    "maximum(45,67,89)"
   ]
  },
  {
   "cell_type": "code",
   "execution_count": 9,
   "id": "8a9f0443",
   "metadata": {},
   "outputs": [
    {
     "data": {
      "text/plain": [
       "90"
      ]
     },
     "execution_count": 9,
     "metadata": {},
     "output_type": "execute_result"
    }
   ],
   "source": [
    "maximum(90,75,80)"
   ]
  },
  {
   "cell_type": "code",
   "execution_count": 10,
   "id": "6b242cf1",
   "metadata": {},
   "outputs": [
    {
     "data": {
      "text/plain": [
       "9"
      ]
     },
     "execution_count": 10,
     "metadata": {},
     "output_type": "execute_result"
    }
   ],
   "source": [
    "maximum(5,9,4)"
   ]
  },
  {
   "cell_type": "markdown",
   "id": "1a8c15bd",
   "metadata": {},
   "source": [
    "### Practice Example: Define `minimum` function of three values"
   ]
  },
  {
   "cell_type": "code",
   "execution_count": 11,
   "id": "4d547ad4",
   "metadata": {},
   "outputs": [],
   "source": [
    "def minimum(a,b,c):\n",
    "    if a<b and a<c:\n",
    "        smallest=a \n",
    "    elif (b<c):\n",
    "        smallest=b\n",
    "    else:\n",
    "        smallest=c\n",
    "    return smallest"
   ]
  },
  {
   "cell_type": "code",
   "execution_count": 12,
   "id": "996fb196",
   "metadata": {},
   "outputs": [
    {
     "data": {
      "text/plain": [
       "5"
      ]
     },
     "execution_count": 12,
     "metadata": {},
     "output_type": "execute_result"
    }
   ],
   "source": [
    "minimum(5,6,7)"
   ]
  },
  {
   "cell_type": "code",
   "execution_count": 13,
   "id": "a6059a5e",
   "metadata": {},
   "outputs": [
    {
     "data": {
      "text/plain": [
       "5"
      ]
     },
     "execution_count": 13,
     "metadata": {},
     "output_type": "execute_result"
    }
   ],
   "source": [
    "minimum(10,5,90)"
   ]
  },
  {
   "cell_type": "code",
   "execution_count": 14,
   "id": "45c114e5",
   "metadata": {},
   "outputs": [
    {
     "data": {
      "text/plain": [
       "6"
      ]
     },
     "execution_count": 14,
     "metadata": {},
     "output_type": "execute_result"
    }
   ],
   "source": [
    "minimum(90,10,6)"
   ]
  },
  {
   "cell_type": "markdown",
   "id": "f20ad451",
   "metadata": {},
   "source": [
    "#  Arbitrary Argument Lists\n",
    "*  **`*args`**, indicating that the function can receive any number of additional arguments. \n",
    "* The `*` before the parameter name tells Python to pack any remaining arguments into a tuple that’s passed to the `args` parameter."
   ]
  },
  {
   "cell_type": "code",
   "execution_count": 17,
   "id": "cafe6bc8",
   "metadata": {},
   "outputs": [],
   "source": [
    "def addition (*args):\n",
    "    return sum(args)"
   ]
  },
  {
   "cell_type": "code",
   "execution_count": 19,
   "id": "e3973d4f",
   "metadata": {},
   "outputs": [
    {
     "data": {
      "text/plain": [
       "335"
      ]
     },
     "execution_count": 19,
     "metadata": {},
     "output_type": "execute_result"
    }
   ],
   "source": [
    "addition(10,23,45,67,90,100)"
   ]
  },
  {
   "cell_type": "code",
   "execution_count": 23,
   "id": "e7bb76b0",
   "metadata": {},
   "outputs": [],
   "source": [
    "#Mean/Average of numbers\n",
    "def get_mean (*args):\n",
    "    return (sum(args)/len(args))"
   ]
  },
  {
   "cell_type": "code",
   "execution_count": 24,
   "id": "a6d00527",
   "metadata": {},
   "outputs": [
    {
     "data": {
      "text/plain": [
       "5.0"
      ]
     },
     "execution_count": 24,
     "metadata": {},
     "output_type": "execute_result"
    }
   ],
   "source": [
    "get_mean(5,5,5,5,5)"
   ]
  },
  {
   "cell_type": "code",
   "execution_count": 25,
   "id": "1b69e0f0",
   "metadata": {},
   "outputs": [
    {
     "data": {
      "text/plain": [
       "5.5"
      ]
     },
     "execution_count": 25,
     "metadata": {},
     "output_type": "execute_result"
    }
   ],
   "source": [
    "get_mean(1,2,3,4,5,6,7,8,9,10)"
   ]
  },
  {
   "cell_type": "markdown",
   "id": "84b44203",
   "metadata": {},
   "source": [
    "### Arbitary Argumented list with list"
   ]
  },
  {
   "cell_type": "code",
   "execution_count": 27,
   "id": "e4f2f56d",
   "metadata": {},
   "outputs": [
    {
     "data": {
      "text/plain": [
       "66.75"
      ]
     },
     "execution_count": 27,
     "metadata": {},
     "output_type": "execute_result"
    }
   ],
   "source": [
    "numbers=[34,56,78,99]\n",
    "get_mean(*numbers)"
   ]
  },
  {
   "cell_type": "markdown",
   "id": "688d1f13",
   "metadata": {},
   "source": [
    "### More about functions\n",
    "In this session we looked at the concept of `scope`, working with `random numbers`, `statictics` and using various versions of import to work with different functions in module."
   ]
  },
  {
   "cell_type": "markdown",
   "id": "d21db560",
   "metadata": {},
   "source": [
    "### Scope\n",
    "* Each identifier has a `scope` that determines where you can use it in your program.\n",
    "\n",
    "* A local variable’s identifier has **local scope**. \n",
    "\n",
    "* Identifiers defined outside any function (or class) have **global scope**—these may include functions, variables and classes."
   ]
  },
  {
   "cell_type": "markdown",
   "id": "d8e69b30",
   "metadata": {},
   "source": [
    "One thing you don't want to do is create a variable and function with the same name. The variable will \"hide\" the function and prevent you from calling it. If you execute the cell below it will throw an error."
   ]
  },
  {
   "cell_type": "code",
   "execution_count": 28,
   "id": "440ef670",
   "metadata": {},
   "outputs": [
    {
     "data": {
      "text/plain": [
       "40"
      ]
     },
     "execution_count": 28,
     "metadata": {},
     "output_type": "execute_result"
    }
   ],
   "source": [
    "x=10 #Global variable\n",
    "\n",
    "def scope_of_fun(num):\n",
    "    return num*2 #num is a local variable\n",
    "scope_of_fun(20)"
   ]
  },
  {
   "cell_type": "code",
   "execution_count": 29,
   "id": "27427b65",
   "metadata": {},
   "outputs": [
    {
     "name": "stdout",
     "output_type": "stream",
     "text": [
      "10\n"
     ]
    }
   ],
   "source": [
    "print(x)"
   ]
  },
  {
   "cell_type": "code",
   "execution_count": 31,
   "id": "406cf8e1",
   "metadata": {},
   "outputs": [],
   "source": [
    "#print(num) gives you name error, num is not defined b/c it is a local variable"
   ]
  },
  {
   "cell_type": "code",
   "execution_count": null,
   "id": "73783f97",
   "metadata": {},
   "outputs": [],
   "source": []
  },
  {
   "cell_type": "markdown",
   "id": "1a55bc5e",
   "metadata": {},
   "source": [
    "* By default, you cannot _modify_ a global variable in a function\n",
    "* Python creates a **new local variable** when you first assign a value to a variable in a function’s block.\n",
    "* In function `try_to_modify_global`’s block, the local `x` **shadows** the global `x`, making it inaccessible in the scope of the function’s block. "
   ]
  },
  {
   "cell_type": "code",
   "execution_count": 33,
   "id": "f2dd1ab9",
   "metadata": {},
   "outputs": [
    {
     "name": "stdout",
     "output_type": "stream",
     "text": [
      "3.5\n"
     ]
    }
   ],
   "source": [
    "x=10\n",
    "def try_to_mod_global():\n",
    "    x=3.5\n",
    "    print(x)\n",
    "try_to_mod_global()"
   ]
  },
  {
   "cell_type": "code",
   "execution_count": 34,
   "id": "292c4ed5",
   "metadata": {},
   "outputs": [
    {
     "data": {
      "text/plain": [
       "10"
      ]
     },
     "execution_count": 34,
     "metadata": {},
     "output_type": "execute_result"
    }
   ],
   "source": [
    "x"
   ]
  },
  {
   "cell_type": "markdown",
   "id": "3023353c",
   "metadata": {},
   "source": [
    "* To modify a global variable in a function’s block, you must use a **`global`** statement to declare that the variable is defined in the global scope: \"modify_global\""
   ]
  },
  {
   "cell_type": "code",
   "execution_count": 35,
   "id": "ad58975d",
   "metadata": {},
   "outputs": [
    {
     "name": "stdout",
     "output_type": "stream",
     "text": [
      "3.5\n"
     ]
    }
   ],
   "source": [
    "x=10\n",
    "def mod_global():\n",
    "    global x\n",
    "    x=3.5\n",
    "    print(x)\n",
    "mod_global()"
   ]
  },
  {
   "cell_type": "code",
   "execution_count": 36,
   "id": "c1578e44",
   "metadata": {},
   "outputs": [
    {
     "name": "stdout",
     "output_type": "stream",
     "text": [
      "3.5\n"
     ]
    }
   ],
   "source": [
    "print(x)"
   ]
  },
  {
   "cell_type": "markdown",
   "id": "109a13bb",
   "metadata": {},
   "source": [
    "## Write functions to find out Area and Perimeter of circle"
   ]
  },
  {
   "cell_type": "code",
   "execution_count": 37,
   "id": "41b7edfe",
   "metadata": {},
   "outputs": [
    {
     "data": {
      "text/plain": [
       "3.141592653589793"
      ]
     },
     "execution_count": 37,
     "metadata": {},
     "output_type": "execute_result"
    }
   ],
   "source": [
    "from math import pi\n",
    "pi"
   ]
  },
  {
   "cell_type": "code",
   "execution_count": 39,
   "id": "a204117c",
   "metadata": {},
   "outputs": [
    {
     "name": "stdout",
     "output_type": "stream",
     "text": [
      "Enter the radius values: 10\n",
      "The area of the circle:  314\n",
      "The perimeter of the circle:  63\n"
     ]
    }
   ],
   "source": [
    "def area_circle(r):\n",
    "    return pi*(r**2)\n",
    "def peri_circle(r):\n",
    "    return 2*pi*r\n",
    "rad=int(input(\"Enter the radius values: \"))\n",
    "print(\"The area of the circle: \", round(area_circle(rad)))\n",
    "print(\"The perimeter of the circle: \", round(peri_circle(rad)))"
   ]
  },
  {
   "cell_type": "markdown",
   "id": "df6f51b1",
   "metadata": {},
   "source": [
    "## Write functions to find out Area and Perimeter of rectangle"
   ]
  },
  {
   "cell_type": "code",
   "execution_count": 42,
   "id": "d3b789f5",
   "metadata": {},
   "outputs": [
    {
     "name": "stdout",
     "output_type": "stream",
     "text": [
      "Enter the height value of rectangle: 2\n",
      "Enter the width value of rectangle: 4\n",
      "The area of the rectangle:  8\n",
      "The perimeter of the rectangle:  12\n"
     ]
    }
   ],
   "source": [
    "def area_rec(h,w):\n",
    "    return h*w\n",
    "def peri_rec(h,w):\n",
    "    return 2*(h+w)\n",
    "Hei=int(input(\"Enter the height value of rectangle: \"))\n",
    "Wid=int(input(\"Enter the width value of rectangle: \"))\n",
    "print(\"The area of the rectangle: \", round(area_rec(Hei,Wid)))\n",
    "print(\"The perimeter of the rectangle: \", round(peri_rec(Hei,Wid)))"
   ]
  },
  {
   "cell_type": "code",
   "execution_count": null,
   "id": "190aa5a8",
   "metadata": {},
   "outputs": [],
   "source": []
  },
  {
   "cell_type": "markdown",
   "id": "a8278db5",
   "metadata": {},
   "source": [
    "## Random Number Generation\n",
    "* Can introduce the element of chance via the Python Standard Library’s `random` module. "
   ]
  },
  {
   "cell_type": "markdown",
   "id": "bc0d1543",
   "metadata": {},
   "source": [
    "* `randrange` function generates an integer from the first argument value up to, but not including, the second argument value.\n",
    "* Different values are displayed if you re-execute the loop.\n",
    "* random.randrange where `random` is module and `randrange` is method"
   ]
  },
  {
   "cell_type": "code",
   "execution_count": 45,
   "id": "c79442cd",
   "metadata": {},
   "outputs": [
    {
     "name": "stdout",
     "output_type": "stream",
     "text": [
      "11\n"
     ]
    }
   ],
   "source": [
    "import random\n",
    "x=random.randrange(10,20)\n",
    "print(x)"
   ]
  },
  {
   "cell_type": "code",
   "execution_count": 47,
   "id": "13845d5d",
   "metadata": {},
   "outputs": [
    {
     "name": "stdout",
     "output_type": "stream",
     "text": [
      "[14, 7, 9, 2, 13, 3, 13, 16, 10, 6]\n"
     ]
    }
   ],
   "source": [
    "#Filling an empty list with random numbers\n",
    "List=[]\n",
    "for i in range(10): #10 entries to the list\n",
    "    x=random.randrange(1,20) #numbers will be inbetween 1 to 19(included)\n",
    "    List.append(x)\n",
    "print(List)"
   ]
  },
  {
   "cell_type": "markdown",
   "id": "333c6712",
   "metadata": {},
   "source": [
    "## Create a list of 20 numbers in the range of 30 to 50"
   ]
  },
  {
   "cell_type": "code",
   "execution_count": 48,
   "id": "9b1313e1",
   "metadata": {},
   "outputs": [
    {
     "name": "stdout",
     "output_type": "stream",
     "text": [
      "[45, 49, 48, 45, 34, 40, 34, 40, 39, 43, 43, 49, 36, 48, 32, 36, 50, 38, 40, 46]\n"
     ]
    }
   ],
   "source": [
    "List_2=[]\n",
    "for i in range(20): #20 entries to the list\n",
    "    x=random.randrange(30,51) #numbers will be inbetween 30 to 50(included)\n",
    "    List_2.append(x)\n",
    "print(List_2)"
   ]
  },
  {
   "cell_type": "markdown",
   "id": "a58727b8",
   "metadata": {},
   "source": [
    "### Guess the number between 1 to 10"
   ]
  },
  {
   "cell_type": "code",
   "execution_count": 1,
   "id": "49a5f690",
   "metadata": {},
   "outputs": [
    {
     "name": "stdout",
     "output_type": "stream",
     "text": [
      "Enter a number between 1-10: 6\n",
      "Try again.\n",
      "Enter a number between 1-10: 8\n",
      "Try again.\n",
      "Enter a number between 1-10: 2\n",
      "Try again.\n",
      "Enter a number between 1-10: 3\n",
      "You won! You took 3 chances.\n"
     ]
    }
   ],
   "source": [
    "import random\n",
    "number=random.randint(1,10) #10 is included\n",
    "entered_num=None \n",
    "time=0\n",
    "\n",
    "while entered_num!=number:\n",
    "    entered_num=int(input(\"Enter a number between 1-10: \"))\n",
    "    \n",
    "    if entered_num==number:\n",
    "        print(\"You won!\",\"You took\",time, \"chances.\")\n",
    "    else:\n",
    "        print(\"Try again.\")\n",
    "    time=time+1"
   ]
  },
  {
   "cell_type": "code",
   "execution_count": null,
   "id": "1c762dc0",
   "metadata": {},
   "outputs": [],
   "source": []
  }
 ],
 "metadata": {
  "kernelspec": {
   "display_name": "Python 3 (ipykernel)",
   "language": "python",
   "name": "python3"
  },
  "language_info": {
   "codemirror_mode": {
    "name": "ipython",
    "version": 3
   },
   "file_extension": ".py",
   "mimetype": "text/x-python",
   "name": "python",
   "nbconvert_exporter": "python",
   "pygments_lexer": "ipython3",
   "version": "3.9.12"
  }
 },
 "nbformat": 4,
 "nbformat_minor": 5
}
