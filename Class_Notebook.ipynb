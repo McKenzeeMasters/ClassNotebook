{
 "cells": [
  {
   "cell_type": "markdown",
   "id": "4ef4485e",
   "metadata": {},
   "source": [
    "# Ch9 Classes"
   ]
  },
  {
   "cell_type": "markdown",
   "id": "7b465366",
   "metadata": {},
   "source": [
    "### Python is an object oriented programming language.\n",
    "- Almost everything in Python is an object, with its properties and methods (Functions).\n",
    "- A Class is like an object constructor, or a \"blueprint\" for creating objects."
   ]
  },
  {
   "cell_type": "code",
   "execution_count": 9,
   "id": "741b88de",
   "metadata": {},
   "outputs": [
    {
     "name": "stdout",
     "output_type": "stream",
     "text": [
      "Angle\n",
      "Hill\n",
      "Employee full name: Angle Hill\n",
      "Employee full name: Peter White\n"
     ]
    }
   ],
   "source": [
    "class Employee():\n",
    "    #init is the constructor of the class\n",
    "    #self is used to represent the instance of a class\n",
    "    def __init__(self, first, last, age, dept): #method/function\n",
    "        self.first=first.title()\n",
    "        self.last=last.title()\n",
    "        self.age=age\n",
    "        self.dept=dept.title()\n",
    "        \n",
    "    def fullname(self):\n",
    "        return(f\"Employee full name: {self.first} {self.last}\")\n",
    "        \n",
    "emp_1=Employee(\"angle\", \"hill\", 34, \"accounting\")\n",
    "emp_2=Employee(\"peter\", \"white\", 35, \"finance\")\n",
    "print(emp_1.first)\n",
    "print(emp_1.last)\n",
    "print(emp_1.fullname())\n",
    "print(emp_2.fullname())\n",
    "#print(f\"Employee full name: {emp_1.first} {emp_1.last}\")"
   ]
  },
  {
   "cell_type": "markdown",
   "id": "5d60f7c0",
   "metadata": {},
   "source": [
    "### Creating the Dog Class\n",
    "Each instance created from the Dog class will store a name and an age, and we’ll give each dog the ability to sit() and roll_over():"
   ]
  },
  {
   "cell_type": "code",
   "execution_count": 10,
   "id": "6e84155c",
   "metadata": {},
   "outputs": [],
   "source": [
    "class Dog():\n",
    "    def __init__(self, name, age):\n",
    "        self.name=name.title()\n",
    "        self.age=age\n",
    "        \n",
    "    def sit(self):\n",
    "        print(f\"{self.name} is now sitting.\")\n",
    "        \n",
    "    def roll(self):\n",
    "        print(f\"{self.name} is now rolling over.\")"
   ]
  },
  {
   "cell_type": "code",
   "execution_count": 13,
   "id": "3c70e9c0",
   "metadata": {},
   "outputs": [
    {
     "name": "stdout",
     "output_type": "stream",
     "text": [
      "Luke\n",
      "10\n",
      "Lilly\n",
      "3\n",
      "Luke is now sitting.\n",
      "Lilly is now rolling over.\n"
     ]
    }
   ],
   "source": [
    "dog_1=Dog(\"luke\", 10)\n",
    "dog_2=Dog(\"lilly\", 3)\n",
    "print(dog_1.name)\n",
    "print(dog_1.age)\n",
    "print(dog_2.name)\n",
    "print(dog_2.age)\n",
    "\n",
    "dog_1.sit()\n",
    "dog_2.roll()"
   ]
  },
  {
   "cell_type": "markdown",
   "id": "8bbcc5c0",
   "metadata": {},
   "source": [
    "#### Note:\n",
    "- By convention, capitalized names refer to classes in Python. \n",
    "- The parentheses in the class definition are empty because we’re creating this class from scratch.\n",
    "- All classes have a function called __init__(), which is always executed when the class is being initiated.\n",
    "- Use the __init__() function to assign values to object properties, or other operations that are necessary to do when the object is being created\n",
    "- Any variable prefixed with `self` is available to every method in the class, and we’ll also be able to access these variables through any instance created from the class.\n",
    "- The Dog class has two other methods defined: sit() and roll_over().Because these methods don’t need additional information like a name or age, we just define them to have one parameter, self."
   ]
  },
  {
   "cell_type": "markdown",
   "id": "402f0696",
   "metadata": {},
   "source": [
    "### Restaurant: Make a class called Restaurant. The __init__() method for Restaurant should store two attributes: a restaurant_name and a cuisine_type.\n",
    "- Make a method called `describe_restaurant()` that prints name of teh restrurent and the cuisine type\n",
    "- and a method called open_restaurant() that prints a message indicating that the restaurant is open.\n",
    "- Make an instance called restaurant from your class. Print the two attributes individually, and then call both methods.\n"
   ]
  },
  {
   "cell_type": "code",
   "execution_count": 19,
   "id": "c4316b2d",
   "metadata": {},
   "outputs": [],
   "source": [
    "class Restaurant():\n",
    "    def __init__(self, name, cuisine):\n",
    "        self.name=name.title()\n",
    "        self.cuisine=cuisine.title()\n",
    "        \n",
    "    def describe_restaurant(self):\n",
    "        print(f\"{self.name} is {self.cuisine} cuisine\")\n",
    "        \n",
    "    def open_res(self):\n",
    "        print(f\"{self.name} is open!\")"
   ]
  },
  {
   "cell_type": "markdown",
   "id": "8b4a4fca",
   "metadata": {},
   "source": [
    "### - Create three different instances from the class, and call describe_restaurant() for each instance."
   ]
  },
  {
   "cell_type": "code",
   "execution_count": 18,
   "id": "b3845fe0",
   "metadata": {},
   "outputs": [
    {
     "name": "stdout",
     "output_type": "stream",
     "text": [
      "Olive Garden is Italian cuisine\n"
     ]
    }
   ],
   "source": [
    "res1=Restaurant(\"olive garden\", \"italian\")\n",
    "res1.describe_restaurant()"
   ]
  },
  {
   "cell_type": "code",
   "execution_count": 20,
   "id": "e6aa8a33",
   "metadata": {},
   "outputs": [
    {
     "name": "stdout",
     "output_type": "stream",
     "text": [
      "Chewy'S is Mexican cuisine\n"
     ]
    }
   ],
   "source": [
    "res2=Restaurant(\"chewy's\", \"mexican\")\n",
    "res2.describe_restaurant()"
   ]
  },
  {
   "cell_type": "code",
   "execution_count": 21,
   "id": "6b24e6f1",
   "metadata": {},
   "outputs": [
    {
     "name": "stdout",
     "output_type": "stream",
     "text": [
      "Burger King is American cuisine\n"
     ]
    }
   ],
   "source": [
    "res3=Restaurant(\"burger king\", 'american')\n",
    "res3.describe_restaurant()"
   ]
  },
  {
   "cell_type": "markdown",
   "id": "8f4032c6",
   "metadata": {},
   "source": [
    "### Users: Make a class called User. Create attributes called first_name and last_name, username, location \n",
    "- Make a method called describe_user() that prints a summary of the user’s information. \n",
    "- Make another method called greet_user() that prints a personalized greeting to the user.\n",
    "- Create several instances representing different users, and call both methods for each user."
   ]
  },
  {
   "cell_type": "code",
   "execution_count": 24,
   "id": "dda94ce2",
   "metadata": {},
   "outputs": [],
   "source": [
    "class User():\n",
    "    def __init__(self, first_name, last_name, username, location):\n",
    "        self.first_name=first_name.title()\n",
    "        self.last_name=last_name.title()\n",
    "        self.username=username\n",
    "        self.location=location.title()\n",
    "        \n",
    "    def describe_user(self):\n",
    "        print(f\"{self.first_name} {self.last_name} is {self.username} and is in {self.location}\")\n",
    "        \n",
    "    def greet_user(self):\n",
    "        print(f\"Hi {self.username}! Welcome back! \")"
   ]
  },
  {
   "cell_type": "code",
   "execution_count": 26,
   "id": "8864d617",
   "metadata": {},
   "outputs": [
    {
     "name": "stdout",
     "output_type": "stream",
     "text": [
      "Kat Smith is kattt and is in California\n",
      "Hi kattt! Welcome back! \n",
      "Chelsea Mckendree is Chel and is in Kentucky\n",
      "Hi Chel! Welcome back! \n"
     ]
    }
   ],
   "source": [
    "user1=User(\"kat\",\"smith\",\"kattt\",\"california\")\n",
    "user1.describe_user()\n",
    "user1.greet_user()\n",
    "\n",
    "user2=User('chelsea','mcKendree','Chel',\"kentucky\")\n",
    "user2.describe_user()\n",
    "user2.greet_user()"
   ]
  },
  {
   "cell_type": "markdown",
   "id": "8b5bfff2",
   "metadata": {},
   "source": [
    "## Setting a Default Value for an Attribute"
   ]
  },
  {
   "cell_type": "code",
   "execution_count": 34,
   "id": "bbdc7a10",
   "metadata": {},
   "outputs": [],
   "source": [
    "class car():\n",
    "    def __init__(self, make, model, year):\n",
    "        self.make=make\n",
    "        self.model=model\n",
    "        self.year=year\n",
    "        self.odometer_reading=0\n",
    "        \n",
    "    def get_describe_name(self):\n",
    "        long_name= str(self.year)+ \" \" +self.make+ \" \" +self.model\n",
    "        return long_name.title()\n",
    "    \n",
    "    def read_odometer(self):\n",
    "        print(f\"This car has {self.odometer_reading} miles on it.\")\n",
    "        \n",
    "    def update_odometer(self, milage):\n",
    "        self.odometer_reading+=milage\n",
    "    "
   ]
  },
  {
   "cell_type": "code",
   "execution_count": 35,
   "id": "35859896",
   "metadata": {},
   "outputs": [
    {
     "data": {
      "text/plain": [
       "'2015 Nissan Versa'"
      ]
     },
     "execution_count": 35,
     "metadata": {},
     "output_type": "execute_result"
    }
   ],
   "source": [
    "my_car=car(\"Nissan\",\"Versa\", 2015)\n",
    "my_car.get_describe_name()"
   ]
  },
  {
   "cell_type": "code",
   "execution_count": 36,
   "id": "9ea6316b",
   "metadata": {},
   "outputs": [
    {
     "name": "stdout",
     "output_type": "stream",
     "text": [
      "This car has 0 miles on it.\n"
     ]
    }
   ],
   "source": [
    "my_car.read_odometer()"
   ]
  },
  {
   "cell_type": "code",
   "execution_count": 37,
   "id": "d5443347",
   "metadata": {},
   "outputs": [],
   "source": [
    "my_car.update_odometer(40)"
   ]
  },
  {
   "cell_type": "code",
   "execution_count": 38,
   "id": "441be2fb",
   "metadata": {},
   "outputs": [
    {
     "name": "stdout",
     "output_type": "stream",
     "text": [
      "This car has 40 miles on it.\n"
     ]
    }
   ],
   "source": [
    "my_car.read_odometer()"
   ]
  },
  {
   "cell_type": "markdown",
   "id": "3f840f3e",
   "metadata": {},
   "source": [
    "#### Modifying an Attribute’s Value Directly"
   ]
  },
  {
   "cell_type": "code",
   "execution_count": null,
   "id": "6f8fa540",
   "metadata": {},
   "outputs": [],
   "source": []
  },
  {
   "cell_type": "code",
   "execution_count": null,
   "id": "2f382418",
   "metadata": {},
   "outputs": [],
   "source": []
  },
  {
   "cell_type": "markdown",
   "id": "27f8f244",
   "metadata": {},
   "source": [
    "### Modifying an Attribute’s Value Through a Method"
   ]
  },
  {
   "cell_type": "code",
   "execution_count": null,
   "id": "9b3ae956",
   "metadata": {},
   "outputs": [],
   "source": []
  },
  {
   "cell_type": "code",
   "execution_count": null,
   "id": "3c3c57c2",
   "metadata": {},
   "outputs": [],
   "source": []
  },
  {
   "cell_type": "markdown",
   "id": "fd560131",
   "metadata": {},
   "source": [
    "### Incrementing an Attribute’s Value Through a Method"
   ]
  },
  {
   "cell_type": "code",
   "execution_count": null,
   "id": "8d76b884",
   "metadata": {},
   "outputs": [],
   "source": []
  },
  {
   "cell_type": "code",
   "execution_count": null,
   "id": "1500c7e7",
   "metadata": {},
   "outputs": [],
   "source": []
  },
  {
   "cell_type": "markdown",
   "id": "b96f0d18",
   "metadata": {},
   "source": [
    "# Inheritance\n",
    "- You don’t always have to start from scratch when writing a class. If the class you’re writing is a specialized version of another class you wrote, you can use inheritance. \n",
    "- When one class inherits from another, it automatically takes on all the attributes and methods of the first class. The original class is called the `parent class`, and the new class is the `child class`. \n",
    "- The child class inherits every attribute and method from its parent class but is also free to define new attributes and methods of its own."
   ]
  },
  {
   "cell_type": "markdown",
   "id": "b25a1111",
   "metadata": {},
   "source": [
    "### Parent Class"
   ]
  },
  {
   "cell_type": "code",
   "execution_count": 1,
   "id": "5b7c3efd",
   "metadata": {},
   "outputs": [],
   "source": [
    "class car():\n",
    "    def __init__(self, make, model, year):\n",
    "        self.make=make\n",
    "        self.model=model\n",
    "        self.year=year\n",
    "        self.odometer_reading=0\n",
    "        \n",
    "    def get_describe_name(self):\n",
    "        long_name= str(self.year)+ \" \" +self.make+ \" \" +self.model\n",
    "        return long_name.title()\n",
    "    \n",
    "    def read_odometer(self):\n",
    "        print(f\"This car has {self.odometer_reading} miles on it.\")\n",
    "        \n",
    "    def update_odometer(self, milage):\n",
    "        self.odometer_reading+=milage"
   ]
  },
  {
   "cell_type": "markdown",
   "id": "0af9dc2f",
   "metadata": {},
   "source": [
    "### Child Class"
   ]
  },
  {
   "cell_type": "code",
   "execution_count": 2,
   "id": "34de9649",
   "metadata": {},
   "outputs": [],
   "source": [
    "class ElectricCar(car):\n",
    "    def __init__(self, make, model, year):\n",
    "        super().__init__(make, model, year) #it inherite the parent class attributes\n",
    "        "
   ]
  },
  {
   "cell_type": "code",
   "execution_count": 3,
   "id": "dbd3a12b",
   "metadata": {},
   "outputs": [
    {
     "name": "stdout",
     "output_type": "stream",
     "text": [
      "2021 Tesla X\n"
     ]
    }
   ],
   "source": [
    "my_tesla=ElectricCar(\"Tesla\",\"X\",2021)\n",
    "print(my_tesla.get_describe_name())"
   ]
  },
  {
   "cell_type": "markdown",
   "id": "5b594c20",
   "metadata": {},
   "source": [
    "### Practice: Create a class named Person, with firstname and lastname properties, and a printname method:"
   ]
  },
  {
   "cell_type": "markdown",
   "id": "c3f31bff",
   "metadata": {},
   "source": [
    "### Parent"
   ]
  },
  {
   "cell_type": "code",
   "execution_count": 6,
   "id": "9b183915",
   "metadata": {},
   "outputs": [],
   "source": [
    "class Person():\n",
    "    def __init__(self, firstname, lastname):\n",
    "        self.firstname=firstname.title()\n",
    "        self.lastname=lastname.title()\n",
    "        \n",
    "    def fullname(self):\n",
    "        return(f\"Their full name is {self.firstname} {self.lastname}.\")"
   ]
  },
  {
   "cell_type": "code",
   "execution_count": 8,
   "id": "9d3a0e56",
   "metadata": {},
   "outputs": [
    {
     "name": "stdout",
     "output_type": "stream",
     "text": [
      "Their full name is Kaylie Malloy.\n",
      "Their full name is John Smith.\n"
     ]
    }
   ],
   "source": [
    "person1=Person(\"kaylie\",\"malloy\")\n",
    "print(person1.fullname())\n",
    "\n",
    "person2=Person(\"john\",\"smith\")\n",
    "print(person2.fullname())"
   ]
  },
  {
   "cell_type": "markdown",
   "id": "a8023470",
   "metadata": {},
   "source": [
    "### Create child classes called Student using Inheritance contains the first and last name and the graduation year \n",
    "- Add a method called `welcome` that prints the student graduation year\n",
    "- Test the student method for two students"
   ]
  },
  {
   "cell_type": "markdown",
   "id": "83fcce51",
   "metadata": {},
   "source": [
    "### Child"
   ]
  },
  {
   "cell_type": "code",
   "execution_count": 9,
   "id": "7612c21a",
   "metadata": {},
   "outputs": [],
   "source": [
    "class Student(Person):\n",
    "    def __init__(self, firstname, lastname, gradyear):\n",
    "        super().__init__(firstname, lastname)\n",
    "        self.gradyear=gradyear\n",
    "        \n",
    "    def Welcome(self):\n",
    "        return(f\"Welcome {self.firstname} {self.lastname} to the class of {self.gradyear}!\")\n",
    "        "
   ]
  },
  {
   "cell_type": "code",
   "execution_count": 10,
   "id": "d3763bcb",
   "metadata": {},
   "outputs": [
    {
     "name": "stdout",
     "output_type": "stream",
     "text": [
      "Welcome Kaylie Malloy to the class of 2024!\n"
     ]
    }
   ],
   "source": [
    "stud1=Student(\"kaylie\",\"malloy\",2024)\n",
    "print(stud1.Welcome())"
   ]
  },
  {
   "cell_type": "code",
   "execution_count": 11,
   "id": "8a1571d5",
   "metadata": {},
   "outputs": [
    {
     "name": "stdout",
     "output_type": "stream",
     "text": [
      "Welcome Gerry Squarpants to the class of 2030!\n"
     ]
    }
   ],
   "source": [
    "stud2=Student('Gerry','Squarpants', 2030)\n",
    "print(stud2.Welcome())"
   ]
  },
  {
   "cell_type": "code",
   "execution_count": 13,
   "id": "5816f6a4",
   "metadata": {},
   "outputs": [
    {
     "name": "stdout",
     "output_type": "stream",
     "text": [
      "Welcome Patrik Star to the class of 2080!\n"
     ]
    }
   ],
   "source": [
    "stud3=Student(\"Patrik\",\"star\",2080)\n",
    "print(stud3.Welcome())"
   ]
  },
  {
   "cell_type": "markdown",
   "id": "2d1130bf",
   "metadata": {},
   "source": [
    "# Create rectangle (length and width) and square (length) classes and create methods for calculating the area and perimeter"
   ]
  },
  {
   "cell_type": "code",
   "execution_count": 21,
   "id": "7512037b",
   "metadata": {},
   "outputs": [],
   "source": [
    "class rectangle():\n",
    "    def __init__(self, length, width):\n",
    "        self.length=length\n",
    "        self.width=width\n",
    "        \n",
    "    def area(self):\n",
    "        return self.length*self.width \n",
    "        \n",
    "    def peri(self):\n",
    "        return (2*self.length)+(2*self.width)\n",
    "\n",
    "class square():\n",
    "    def __init__(self, length):\n",
    "        self.length=length\n",
    "        \n",
    "    def area_squ(self):\n",
    "        return self.length*self.length\n",
    "        \n",
    "    def peri_squ(self):\n",
    "        return 4*self.length\n",
    "        "
   ]
  },
  {
   "cell_type": "code",
   "execution_count": 23,
   "id": "54cd9a35",
   "metadata": {},
   "outputs": [
    {
     "name": "stdout",
     "output_type": "stream",
     "text": [
      "12\n",
      "14\n"
     ]
    }
   ],
   "source": [
    "rec1=rectangle(3,4)\n",
    "print(rec1.area())\n",
    "print(rec1.peri())"
   ]
  },
  {
   "cell_type": "code",
   "execution_count": 24,
   "id": "e2a00729",
   "metadata": {},
   "outputs": [
    {
     "name": "stdout",
     "output_type": "stream",
     "text": [
      "25\n",
      "20\n"
     ]
    }
   ],
   "source": [
    "sq1=square(5)\n",
    "print(sq1.area_squ())\n",
    "print(sq1.peri_squ())"
   ]
  },
  {
   "cell_type": "markdown",
   "id": "21cd4723",
   "metadata": {},
   "source": [
    "# Use inheritance to create the square class from the parent class rectangle"
   ]
  },
  {
   "cell_type": "code",
   "execution_count": 25,
   "id": "900acbeb",
   "metadata": {},
   "outputs": [],
   "source": [
    "class Square(rectangle):\n",
    "    def __init__(self, length):\n",
    "        super().__init__(length,length)\n",
    "        "
   ]
  },
  {
   "cell_type": "code",
   "execution_count": 27,
   "id": "21369f75",
   "metadata": {},
   "outputs": [
    {
     "name": "stdout",
     "output_type": "stream",
     "text": [
      "36\n"
     ]
    }
   ],
   "source": [
    "sq2=Square(6)\n",
    "print(sq2.area())"
   ]
  },
  {
   "cell_type": "markdown",
   "id": "3bdcfd1c",
   "metadata": {},
   "source": [
    "## Create a simple calculator using classes"
   ]
  },
  {
   "cell_type": "code",
   "execution_count": 3,
   "id": "6ab4b4b1",
   "metadata": {},
   "outputs": [
    {
     "name": "stdout",
     "output_type": "stream",
     "text": [
      "Chose from the following menu: \n",
      "1) Addition\n",
      "2) Subtraction\n",
      "3) Multiplication\n",
      "4) Division\n",
      "5) Exit\n",
      "Enter choice (1-5): 10\n",
      "Invalid choice\n",
      "Chose from the following menu: \n",
      "1) Addition\n",
      "2) Subtraction\n",
      "3) Multiplication\n",
      "4) Division\n",
      "5) Exit\n",
      "Enter choice (1-5): 5\n"
     ]
    }
   ],
   "source": [
    "class Mc_Calc():\n",
    "    def __init__(self,input1,input2):\n",
    "        self.input1=input1\n",
    "        self.input2=input2\n",
    "    \n",
    "    def add(num1,num2):\n",
    "        print(f\"Addition = {num1+num2}\")\n",
    "        \n",
    "    def sub(num1,num2):\n",
    "        print(f\"Subtraction = {num1-num2}\")\n",
    "        \n",
    "    def multi(num1,num2):\n",
    "        print(f\"Multiplication = {num1*num2}\")\n",
    "        \n",
    "    def divi(num1,num2):\n",
    "        print(f\"Division = {num1/num2}\")\n",
    "        \n",
    "while True:\n",
    "    print(\"Chose from the following menu: \")\n",
    "    print(\"1) Addition\")\n",
    "    print(\"2) Subtraction\")\n",
    "    print(\"3) Multiplication\")\n",
    "    print(\"4) Division\")\n",
    "    print(\"5) Exit\")\n",
    "    \n",
    "    choice=int(input(\"Enter choice (1-5): \"))\n",
    "    \n",
    "    if choice==1:\n",
    "        num1=int(input(\"Enter first number: \"))\n",
    "        num2=int(input(\"Enter second number: \"))\n",
    "        Mc_Calc.add(num1,num2)\n",
    "    elif choice==2:\n",
    "        num1=int(input(\"Enter first number: \"))\n",
    "        num2=int(input(\"Enter second number: \"))\n",
    "        Mc_Calc.sub(num1,num2)\n",
    "    elif choice==3:\n",
    "        num1=int(input(\"Enter first number: \"))\n",
    "        num2=int(input(\"Enter second number: \"))\n",
    "        Mc_Calc.multi(num1,num2)\n",
    "    elif choice==4:\n",
    "        num1=int(input(\"Enter first number: \"))\n",
    "        num2=int(input(\"Enter second number: \"))\n",
    "        if num2==0:\n",
    "            print(\"Infinity\")\n",
    "        else:\n",
    "            Mc_Calc.divi(num1,num2)\n",
    "    elif choice==5:\n",
    "        break\n",
    "    else: \n",
    "        print(\"Invalid choice\")"
   ]
  },
  {
   "cell_type": "code",
   "execution_count": null,
   "id": "39c3dee9",
   "metadata": {},
   "outputs": [],
   "source": []
  },
  {
   "cell_type": "markdown",
   "id": "0ec161b5",
   "metadata": {},
   "source": [
    "## ATM machine "
   ]
  },
  {
   "cell_type": "code",
   "execution_count": 11,
   "id": "267c3e25",
   "metadata": {},
   "outputs": [],
   "source": [
    "class Mc_ATM():\n",
    "    def __init__(self):\n",
    "        self.balance=0\n",
    "        print(\"Hello! Welcome to the ATM Machine\")\n",
    "        \n",
    "    def deposit(self):\n",
    "        amount=float(input(\"Enter deposit amount: \"))\n",
    "        self.balance+=amount\n",
    "        print(f\"The amount deposited is {amount}  \\nThe new balance is {self.balance}\")\n",
    "        \n",
    "    def withdraw(self):\n",
    "        amount=float(input(\"Enter withdraw amount: \"))\n",
    "        if self.balance>=amount:\n",
    "            self.balance-=amount\n",
    "            print(f\"The amount withdrawn is {amount} \\nThe new balance is {self.balance}\")\n",
    "        else:\n",
    "            print(f\"Insufficient balance \\nbalance is {self.balance}\")\n",
    "        \n",
    "    def display(self):\n",
    "        print(f\"The avilable balance is {self.balance}\")\n",
    "        "
   ]
  },
  {
   "cell_type": "code",
   "execution_count": 12,
   "id": "a6e40459",
   "metadata": {},
   "outputs": [
    {
     "name": "stdout",
     "output_type": "stream",
     "text": [
      "Hello! Welcome to the ATM Machine\n",
      "Enter deposit amount: 500\n",
      "The amount deposited is 500.0  \n",
      "the new balance is 500.0\n"
     ]
    }
   ],
   "source": [
    "my_account= Mc_ATM()\n",
    "my_account.deposit()"
   ]
  },
  {
   "cell_type": "code",
   "execution_count": 13,
   "id": "5349965d",
   "metadata": {},
   "outputs": [
    {
     "name": "stdout",
     "output_type": "stream",
     "text": [
      "The avilable balance is 500.0\n"
     ]
    }
   ],
   "source": [
    "my_account.display()"
   ]
  },
  {
   "cell_type": "code",
   "execution_count": 14,
   "id": "2b199c47",
   "metadata": {},
   "outputs": [
    {
     "name": "stdout",
     "output_type": "stream",
     "text": [
      "Enter deposit amount: 1000\n",
      "The amount deposited is 1000.0  \n",
      "the new balance is 1500.0\n"
     ]
    }
   ],
   "source": [
    "my_account.deposit()"
   ]
  },
  {
   "cell_type": "code",
   "execution_count": 15,
   "id": "db241a86",
   "metadata": {},
   "outputs": [
    {
     "name": "stdout",
     "output_type": "stream",
     "text": [
      "The avilable balance is 1500.0\n"
     ]
    }
   ],
   "source": [
    "my_account.display()"
   ]
  },
  {
   "cell_type": "code",
   "execution_count": 16,
   "id": "a6ac3592",
   "metadata": {},
   "outputs": [
    {
     "name": "stdout",
     "output_type": "stream",
     "text": [
      "Enter withdraw amount: 90\n",
      "The amount withdrawn is 90.0 \n",
      "the new balance is 1410.0\n"
     ]
    }
   ],
   "source": [
    "my_account.withdraw()"
   ]
  },
  {
   "cell_type": "code",
   "execution_count": 17,
   "id": "dc2697ba",
   "metadata": {},
   "outputs": [
    {
     "name": "stdout",
     "output_type": "stream",
     "text": [
      "The avilable balance is 1410.0\n"
     ]
    }
   ],
   "source": [
    "my_account.display()"
   ]
  },
  {
   "cell_type": "code",
   "execution_count": null,
   "id": "c9ff8d8e",
   "metadata": {},
   "outputs": [],
   "source": []
  }
 ],
 "metadata": {
  "kernelspec": {
   "display_name": "Python 3 (ipykernel)",
   "language": "python",
   "name": "python3"
  },
  "language_info": {
   "codemirror_mode": {
    "name": "ipython",
    "version": 3
   },
   "file_extension": ".py",
   "mimetype": "text/x-python",
   "name": "python",
   "nbconvert_exporter": "python",
   "pygments_lexer": "ipython3",
   "version": "3.9.12"
  }
 },
 "nbformat": 4,
 "nbformat_minor": 5
}
